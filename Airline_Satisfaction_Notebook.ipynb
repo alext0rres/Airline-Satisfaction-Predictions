{
  "nbformat": 4,
  "nbformat_minor": 0,
  "metadata": {
    "colab": {
      "provenance": []
    },
    "kernelspec": {
      "name": "python3",
      "display_name": "Python 3"
    },
    "language_info": {
      "name": "python"
    }
  },
  "cells": [
    {
      "cell_type": "code",
      "execution_count": null,
      "metadata": {
        "colab": {
          "base_uri": "https://localhost:8080/"
        },
        "id": "DaXE8ebBcgi0",
        "outputId": "ebc2dda8-d9f0-4d58-c6ac-3b04d44c83cb"
      },
      "outputs": [
        {
          "output_type": "stream",
          "name": "stdout",
          "text": [
            "Mounted at /content/drive\n"
          ]
        }
      ],
      "source": [
        "from google.colab import drive\n",
        "drive.mount('/content/drive')"
      ]
    },
    {
      "cell_type": "code",
      "source": [
        "! pip install pyspark -q"
      ],
      "metadata": {
        "id": "4CmkDifjckio"
      },
      "execution_count": null,
      "outputs": []
    },
    {
      "cell_type": "code",
      "source": [
        "from pyspark.sql import SparkSession\n",
        "from pyspark import SparkContext\n",
        "\n",
        "sc = SparkContext.getOrCreate()\n",
        "\n",
        "spark = SparkSession\\\n",
        "    .builder\\\n",
        "    .appName('IST418 Project')\\\n",
        "    .getOrCreate()"
      ],
      "metadata": {
        "id": "j1Oumz0hcnVN"
      },
      "execution_count": null,
      "outputs": []
    },
    {
      "cell_type": "markdown",
      "source": [
        "# Loading in Data"
      ],
      "metadata": {
        "id": "_S-vQP5sntrD"
      }
    },
    {
      "cell_type": "code",
      "source": [
        "df = spark\\\n",
        "  .read\\\n",
        "  .option(\"header\", \"true\")\\\n",
        "  .option(\"inferSchema\", \"true\")\\\n",
        "  .csv(\"/content/drive/MyDrive/IST418/Airline Satisfaction/train.csv\")\\\n",
        "  .drop('_c0')\\\n",
        "  .drop('id')"
      ],
      "metadata": {
        "id": "w60LuMGOcoBA"
      },
      "execution_count": null,
      "outputs": []
    },
    {
      "cell_type": "code",
      "source": [
        "df\\\n",
        ".show(10)"
      ],
      "metadata": {
        "colab": {
          "base_uri": "https://localhost:8080/"
        },
        "id": "VIi2JEhwc6Ks",
        "outputId": "593b0811-07bb-4770-c5a0-2d3da76ccc39"
      },
      "execution_count": null,
      "outputs": [
        {
          "output_type": "stream",
          "name": "stdout",
          "text": [
            "+------+-----------------+---+---------------+--------+---------------+---------------------+---------------------------------+----------------------+-------------+--------------+---------------+------------+----------------------+----------------+----------------+----------------+---------------+----------------+-----------+--------------------------+------------------------+--------------------+\n",
            "|Gender|    Customer Type|Age| Type of Travel|   Class|Flight Distance|Inflight wifi service|Departure/Arrival time convenient|Ease of Online booking|Gate location|Food and drink|Online boarding|Seat comfort|Inflight entertainment|On-board service|Leg room service|Baggage handling|Checkin service|Inflight service|Cleanliness|Departure Delay in Minutes|Arrival Delay in Minutes|        satisfaction|\n",
            "+------+-----------------+---+---------------+--------+---------------+---------------------+---------------------------------+----------------------+-------------+--------------+---------------+------------+----------------------+----------------+----------------+----------------+---------------+----------------+-----------+--------------------------+------------------------+--------------------+\n",
            "|  Male|   Loyal Customer| 13|Personal Travel|Eco Plus|            460|                    3|                                4|                     3|            1|             5|              3|           5|                     5|               4|               3|               4|              4|               5|          5|                        25|                    18.0|neutral or dissat...|\n",
            "|  Male|disloyal Customer| 25|Business travel|Business|            235|                    3|                                2|                     3|            3|             1|              3|           1|                     1|               1|               5|               3|              1|               4|          1|                         1|                     6.0|neutral or dissat...|\n",
            "|Female|   Loyal Customer| 26|Business travel|Business|           1142|                    2|                                2|                     2|            2|             5|              5|           5|                     5|               4|               3|               4|              4|               4|          5|                         0|                     0.0|           satisfied|\n",
            "|Female|   Loyal Customer| 25|Business travel|Business|            562|                    2|                                5|                     5|            5|             2|              2|           2|                     2|               2|               5|               3|              1|               4|          2|                        11|                     9.0|neutral or dissat...|\n",
            "|  Male|   Loyal Customer| 61|Business travel|Business|            214|                    3|                                3|                     3|            3|             4|              5|           5|                     3|               3|               4|               4|              3|               3|          3|                         0|                     0.0|           satisfied|\n",
            "|Female|   Loyal Customer| 26|Personal Travel|     Eco|           1180|                    3|                                4|                     2|            1|             1|              2|           1|                     1|               3|               4|               4|              4|               4|          1|                         0|                     0.0|neutral or dissat...|\n",
            "|  Male|   Loyal Customer| 47|Personal Travel|     Eco|           1276|                    2|                                4|                     2|            3|             2|              2|           2|                     2|               3|               3|               4|              3|               5|          2|                         9|                    23.0|neutral or dissat...|\n",
            "|Female|   Loyal Customer| 52|Business travel|Business|           2035|                    4|                                3|                     4|            4|             5|              5|           5|                     5|               5|               5|               5|              4|               5|          4|                         4|                     0.0|           satisfied|\n",
            "|Female|   Loyal Customer| 41|Business travel|Business|            853|                    1|                                2|                     2|            2|             4|              3|           3|                     1|               1|               2|               1|              4|               1|          2|                         0|                     0.0|neutral or dissat...|\n",
            "|  Male|disloyal Customer| 20|Business travel|     Eco|           1061|                    3|                                3|                     3|            4|             2|              3|           3|                     2|               2|               3|               4|              4|               3|          2|                         0|                     0.0|neutral or dissat...|\n",
            "+------+-----------------+---+---------------+--------+---------------+---------------------+---------------------------------+----------------------+-------------+--------------+---------------+------------+----------------------+----------------+----------------+----------------+---------------+----------------+-----------+--------------------------+------------------------+--------------------+\n",
            "only showing top 10 rows\n",
            "\n"
          ]
        }
      ]
    },
    {
      "cell_type": "markdown",
      "source": [
        "# One Hot Encoding"
      ],
      "metadata": {
        "id": "SV3xhIjmnz53"
      }
    },
    {
      "cell_type": "code",
      "source": [
        "from pyspark.ml import Pipeline, feature\n",
        "from pyspark.ml.feature import StringIndexer, OneHotEncoder, VectorAssembler\n",
        "from pyspark.ml.feature import StandardScaler\n",
        "from pyspark.ml.feature import PCA\n",
        "\n",
        "string_indexer = StringIndexer(inputCols=['Gender', 'Customer Type', 'Type of Travel', 'satisfaction', 'Class'],\n",
        "                                outputCols=['gender_indexed', 'customer_indexed', 'type_indexed', 'satisfaction_indexed', 'class_indexed'],\n",
        "                                handleInvalid='skip')\n",
        "\n",
        "indexerModel = string_indexer.fit(df)\n",
        "indexed_df = indexerModel.transform(df)\n",
        "\n",
        "indexed_df = indexed_df.drop(\"Gender\", \"Customer Type\", \"Type of Travel\", \"satisfaction\", \"Class\")\n",
        "\n",
        "ohe = OneHotEncoder(inputCols =\n",
        "                    [\n",
        "                        'class_indexed', 'Inflight wifi service', 'Departure/Arrival time convenient',\n",
        "                        'Ease of Online booking', 'Gate location', 'Food and drink', 'Online boarding',\n",
        "                        'Seat comfort', 'Inflight entertainment', 'On-board service', 'Leg room service',\n",
        "                        'Baggage handling', 'Checkin service', 'Inflight service', 'Cleanliness'\n",
        "                    ],\n",
        "                    outputCols =\n",
        "                    [\n",
        "                        'class_ohe', 'wifi_ohe', 'dep_arrival_ohe', 'onlinebooking_ohe', 'gate_ohe',\n",
        "                        'food_ohe', 'boarding_ohe', 'seat_ohe', 'entertainment_ohe', 'onboard_ohe',\n",
        "                        'legroom_ohe', 'baggage_ohe', 'checkin_ohe', 'inflight_ohe', 'cleanliness_ohe'\n",
        "                    ])\n",
        "\n",
        "encoded_df = ohe.fit(indexed_df).transform(indexed_df)\n",
        "encoded_df = encoded_df.drop(\"class_indexed\", 'Inflight wifi service', 'Departure/Arrival time convenient',\n",
        "                        'Ease of Online booking', 'Gate location', 'Food and drink', 'Online boarding',\n",
        "                        'Seat comfort', 'Inflight entertainment', 'On-board service', 'Leg room service',\n",
        "                        'Baggage handling', 'Checkin service', 'Inflight service', 'Cleanliness')\n",
        "encoded_df.show()"
      ],
      "metadata": {
        "id": "bOKbq1D_c9wI",
        "colab": {
          "base_uri": "https://localhost:8080/"
        },
        "outputId": "6ddf70c5-f435-4401-96e1-68210623bb69"
      },
      "execution_count": null,
      "outputs": [
        {
          "output_type": "stream",
          "name": "stdout",
          "text": [
            "+---+---------------+--------------------------+------------------------+--------------+----------------+------------+--------------------+-------------+-------------+---------------+-----------------+-------------+-------------+-------------+-------------+-----------------+-------------+-------------+-------------+-------------+-------------+---------------+\n",
            "|Age|Flight Distance|Departure Delay in Minutes|Arrival Delay in Minutes|gender_indexed|customer_indexed|type_indexed|satisfaction_indexed|    class_ohe|     wifi_ohe|dep_arrival_ohe|onlinebooking_ohe|     gate_ohe|     food_ohe| boarding_ohe|     seat_ohe|entertainment_ohe|  onboard_ohe|  legroom_ohe|  baggage_ohe|  checkin_ohe| inflight_ohe|cleanliness_ohe|\n",
            "+---+---------------+--------------------------+------------------------+--------------+----------------+------------+--------------------+-------------+-------------+---------------+-----------------+-------------+-------------+-------------+-------------+-----------------+-------------+-------------+-------------+-------------+-------------+---------------+\n",
            "| 13|            460|                        25|                    18.0|           1.0|             0.0|         1.0|                 0.0|    (2,[],[])|(5,[3],[1.0])|  (5,[4],[1.0])|    (5,[3],[1.0])|(5,[1],[1.0])|    (5,[],[])|(5,[3],[1.0])|    (5,[],[])|        (5,[],[])|(5,[4],[1.0])|(5,[3],[1.0])|(5,[4],[1.0])|(5,[4],[1.0])|    (5,[],[])|      (5,[],[])|\n",
            "| 25|            235|                         1|                     6.0|           1.0|             1.0|         0.0|                 0.0|(2,[0],[1.0])|(5,[3],[1.0])|  (5,[2],[1.0])|    (5,[3],[1.0])|(5,[3],[1.0])|(5,[1],[1.0])|(5,[3],[1.0])|(5,[1],[1.0])|    (5,[1],[1.0])|(5,[1],[1.0])|    (5,[],[])|(5,[3],[1.0])|(5,[1],[1.0])|(5,[4],[1.0])|  (5,[1],[1.0])|\n",
            "| 26|           1142|                         0|                     0.0|           0.0|             0.0|         0.0|                 1.0|(2,[0],[1.0])|(5,[2],[1.0])|  (5,[2],[1.0])|    (5,[2],[1.0])|(5,[2],[1.0])|    (5,[],[])|    (5,[],[])|    (5,[],[])|        (5,[],[])|(5,[4],[1.0])|(5,[3],[1.0])|(5,[4],[1.0])|(5,[4],[1.0])|(5,[4],[1.0])|      (5,[],[])|\n",
            "| 25|            562|                        11|                     9.0|           0.0|             0.0|         0.0|                 0.0|(2,[0],[1.0])|(5,[2],[1.0])|      (5,[],[])|        (5,[],[])|    (5,[],[])|(5,[2],[1.0])|(5,[2],[1.0])|(5,[2],[1.0])|    (5,[2],[1.0])|(5,[2],[1.0])|    (5,[],[])|(5,[3],[1.0])|(5,[1],[1.0])|(5,[4],[1.0])|  (5,[2],[1.0])|\n",
            "| 61|            214|                         0|                     0.0|           1.0|             0.0|         0.0|                 1.0|(2,[0],[1.0])|(5,[3],[1.0])|  (5,[3],[1.0])|    (5,[3],[1.0])|(5,[3],[1.0])|(5,[4],[1.0])|    (5,[],[])|    (5,[],[])|    (5,[3],[1.0])|(5,[3],[1.0])|(5,[4],[1.0])|(5,[4],[1.0])|(5,[3],[1.0])|(5,[3],[1.0])|  (5,[3],[1.0])|\n",
            "| 26|           1180|                         0|                     0.0|           0.0|             0.0|         1.0|                 0.0|(2,[1],[1.0])|(5,[3],[1.0])|  (5,[4],[1.0])|    (5,[2],[1.0])|(5,[1],[1.0])|(5,[1],[1.0])|(5,[2],[1.0])|(5,[1],[1.0])|    (5,[1],[1.0])|(5,[3],[1.0])|(5,[4],[1.0])|(5,[4],[1.0])|(5,[4],[1.0])|(5,[4],[1.0])|  (5,[1],[1.0])|\n",
            "| 47|           1276|                         9|                    23.0|           1.0|             0.0|         1.0|                 0.0|(2,[1],[1.0])|(5,[2],[1.0])|  (5,[4],[1.0])|    (5,[2],[1.0])|(5,[3],[1.0])|(5,[2],[1.0])|(5,[2],[1.0])|(5,[2],[1.0])|    (5,[2],[1.0])|(5,[3],[1.0])|(5,[3],[1.0])|(5,[4],[1.0])|(5,[3],[1.0])|    (5,[],[])|  (5,[2],[1.0])|\n",
            "| 52|           2035|                         4|                     0.0|           0.0|             0.0|         0.0|                 1.0|(2,[0],[1.0])|(5,[4],[1.0])|  (5,[3],[1.0])|    (5,[4],[1.0])|(5,[4],[1.0])|    (5,[],[])|    (5,[],[])|    (5,[],[])|        (5,[],[])|    (5,[],[])|    (5,[],[])|    (5,[],[])|(5,[4],[1.0])|    (5,[],[])|  (5,[4],[1.0])|\n",
            "| 41|            853|                         0|                     0.0|           0.0|             0.0|         0.0|                 0.0|(2,[0],[1.0])|(5,[1],[1.0])|  (5,[2],[1.0])|    (5,[2],[1.0])|(5,[2],[1.0])|(5,[4],[1.0])|(5,[3],[1.0])|(5,[3],[1.0])|    (5,[1],[1.0])|(5,[1],[1.0])|(5,[2],[1.0])|(5,[1],[1.0])|(5,[4],[1.0])|(5,[1],[1.0])|  (5,[2],[1.0])|\n",
            "| 20|           1061|                         0|                     0.0|           1.0|             1.0|         0.0|                 0.0|(2,[1],[1.0])|(5,[3],[1.0])|  (5,[3],[1.0])|    (5,[3],[1.0])|(5,[4],[1.0])|(5,[2],[1.0])|(5,[3],[1.0])|(5,[3],[1.0])|    (5,[2],[1.0])|(5,[2],[1.0])|(5,[3],[1.0])|(5,[4],[1.0])|(5,[4],[1.0])|(5,[3],[1.0])|  (5,[2],[1.0])|\n",
            "| 24|           1182|                         0|                     0.0|           0.0|             1.0|         0.0|                 0.0|(2,[1],[1.0])|(5,[4],[1.0])|      (5,[],[])|        (5,[],[])|(5,[4],[1.0])|(5,[2],[1.0])|    (5,[],[])|(5,[2],[1.0])|    (5,[2],[1.0])|(5,[3],[1.0])|(5,[3],[1.0])|    (5,[],[])|(5,[3],[1.0])|    (5,[],[])|  (5,[2],[1.0])|\n",
            "| 12|            308|                         0|                     0.0|           0.0|             0.0|         1.0|                 0.0|    (2,[],[])|(5,[2],[1.0])|  (5,[4],[1.0])|    (5,[2],[1.0])|(5,[2],[1.0])|(5,[1],[1.0])|(5,[2],[1.0])|(5,[1],[1.0])|    (5,[1],[1.0])|(5,[1],[1.0])|(5,[2],[1.0])|    (5,[],[])|    (5,[],[])|    (5,[],[])|  (5,[1],[1.0])|\n",
            "| 53|            834|                        28|                     8.0|           1.0|             0.0|         0.0|                 0.0|(2,[1],[1.0])|(5,[1],[1.0])|  (5,[4],[1.0])|    (5,[4],[1.0])|(5,[4],[1.0])|(5,[1],[1.0])|(5,[1],[1.0])|(5,[1],[1.0])|    (5,[1],[1.0])|(5,[1],[1.0])|(5,[1],[1.0])|(5,[3],[1.0])|(5,[4],[1.0])|(5,[4],[1.0])|  (5,[1],[1.0])|\n",
            "| 33|            946|                         0|                     0.0|           1.0|             0.0|         1.0|                 1.0|(2,[1],[1.0])|(5,[4],[1.0])|  (5,[2],[1.0])|    (5,[4],[1.0])|(5,[3],[1.0])|(5,[4],[1.0])|(5,[4],[1.0])|(5,[4],[1.0])|    (5,[4],[1.0])|(5,[4],[1.0])|    (5,[],[])|(5,[2],[1.0])|(5,[2],[1.0])|(5,[2],[1.0])|  (5,[4],[1.0])|\n",
            "| 26|            453|                        43|                    35.0|           0.0|             0.0|         1.0|                 0.0|(2,[1],[1.0])|(5,[3],[1.0])|  (5,[2],[1.0])|    (5,[3],[1.0])|(5,[2],[1.0])|(5,[2],[1.0])|(5,[3],[1.0])|(5,[2],[1.0])|    (5,[2],[1.0])|(5,[4],[1.0])|(5,[3],[1.0])|(5,[2],[1.0])|(5,[2],[1.0])|(5,[1],[1.0])|  (5,[2],[1.0])|\n",
            "| 13|            486|                         1|                     0.0|           1.0|             1.0|         0.0|                 0.0|(2,[1],[1.0])|(5,[2],[1.0])|  (5,[1],[1.0])|    (5,[2],[1.0])|(5,[3],[1.0])|(5,[4],[1.0])|(5,[2],[1.0])|(5,[1],[1.0])|    (5,[4],[1.0])|(5,[2],[1.0])|(5,[1],[1.0])|(5,[4],[1.0])|(5,[1],[1.0])|(5,[3],[1.0])|  (5,[4],[1.0])|\n",
            "| 26|           2123|                        49|                    51.0|           0.0|             0.0|         0.0|                 1.0|(2,[0],[1.0])|(5,[3],[1.0])|  (5,[3],[1.0])|    (5,[3],[1.0])|(5,[3],[1.0])|(5,[4],[1.0])|(5,[4],[1.0])|(5,[4],[1.0])|    (5,[4],[1.0])|    (5,[],[])|(5,[3],[1.0])|(5,[4],[1.0])|    (5,[],[])|(5,[4],[1.0])|  (5,[4],[1.0])|\n",
            "| 41|           2075|                         0|                    10.0|           1.0|             0.0|         0.0|                 1.0|(2,[0],[1.0])|(5,[4],[1.0])|  (5,[4],[1.0])|    (5,[2],[1.0])|(5,[4],[1.0])|(5,[4],[1.0])|(5,[4],[1.0])|(5,[4],[1.0])|        (5,[],[])|    (5,[],[])|    (5,[],[])|    (5,[],[])|(5,[3],[1.0])|    (5,[],[])|      (5,[],[])|\n",
            "| 45|           2486|                         7|                     5.0|           0.0|             0.0|         0.0|                 1.0|(2,[0],[1.0])|(5,[4],[1.0])|  (5,[4],[1.0])|    (5,[4],[1.0])|(5,[4],[1.0])|(5,[3],[1.0])|(5,[4],[1.0])|    (5,[],[])|        (5,[],[])|    (5,[],[])|    (5,[],[])|    (5,[],[])|(5,[3],[1.0])|    (5,[],[])|  (5,[4],[1.0])|\n",
            "| 38|            460|                        17|                    18.0|           1.0|             0.0|         1.0|                 0.0|(2,[1],[1.0])|(5,[2],[1.0])|  (5,[3],[1.0])|    (5,[3],[1.0])|(5,[2],[1.0])|    (5,[],[])|(5,[3],[1.0])|    (5,[],[])|        (5,[],[])|(5,[1],[1.0])|(5,[2],[1.0])|(5,[4],[1.0])|(5,[3],[1.0])|(5,[2],[1.0])|      (5,[],[])|\n",
            "+---+---------------+--------------------------+------------------------+--------------+----------------+------------+--------------------+-------------+-------------+---------------+-----------------+-------------+-------------+-------------+-------------+-----------------+-------------+-------------+-------------+-------------+-------------+---------------+\n",
            "only showing top 20 rows\n",
            "\n"
          ]
        }
      ]
    },
    {
      "cell_type": "code",
      "source": [
        "airline_pipe = Pipeline(stages =\n",
        "                        [\n",
        "                        feature.VectorAssembler(inputCols =\n",
        "                                      [\n",
        "                                        'gender_indexed', 'customer_indexed', 'type_indexed', 'satisfaction_indexed',\n",
        "                                        'class_ohe', 'wifi_ohe', 'dep_arrival_ohe', 'onlinebooking_ohe', 'gate_ohe',\n",
        "                                        'food_ohe', 'boarding_ohe', 'seat_ohe', 'entertainment_ohe', 'onboard_ohe',\n",
        "                                        'legroom_ohe', 'baggage_ohe', 'checkin_ohe', 'inflight_ohe', 'cleanliness_ohe'\n",
        "                                      ],\n",
        "                                                outputCol = 'features'),\n",
        "\n",
        "                        feature.StandardScaler(withMean = True,\n",
        "                                               withStd = True,\n",
        "                                               inputCol = 'features',\n",
        "                                               outputCol = 'zfeatures'),\n",
        "                        feature.PCA(k=19,\n",
        "                                    inputCol = 'zfeatures',\n",
        "                                    outputCol = 'scores')\n",
        "\n",
        "                        ]).fit(encoded_df)\n",
        "\n",
        "df_transformed = airline_pipe.transform(encoded_df)"
      ],
      "metadata": {
        "id": "UsqtkEK8FkoB"
      },
      "execution_count": null,
      "outputs": []
    },
    {
      "cell_type": "code",
      "source": [
        "df_transformed\\\n",
        ".show(10)"
      ],
      "metadata": {
        "colab": {
          "base_uri": "https://localhost:8080/"
        },
        "id": "_ZHWYA9TfRTy",
        "outputId": "b5f38364-2996-4db6-c7c2-f346f62ab413"
      },
      "execution_count": null,
      "outputs": [
        {
          "output_type": "stream",
          "name": "stdout",
          "text": [
            "+---+---------------+--------------------------+------------------------+--------------+----------------+------------+--------------------+-------------+-------------+---------------+-----------------+-------------+-------------+-------------+-------------+-----------------+-------------+-------------+-------------+-------------+-------------+---------------+--------------------+--------------------+--------------------+\n",
            "|Age|Flight Distance|Departure Delay in Minutes|Arrival Delay in Minutes|gender_indexed|customer_indexed|type_indexed|satisfaction_indexed|    class_ohe|     wifi_ohe|dep_arrival_ohe|onlinebooking_ohe|     gate_ohe|     food_ohe| boarding_ohe|     seat_ohe|entertainment_ohe|  onboard_ohe|  legroom_ohe|  baggage_ohe|  checkin_ohe| inflight_ohe|cleanliness_ohe|            features|           zfeatures|              scores|\n",
            "+---+---------------+--------------------------+------------------------+--------------+----------------+------------+--------------------+-------------+-------------+---------------+-----------------+-------------+-------------+-------------+-------------+-----------------+-------------+-------------+-------------+-------------+-------------+---------------+--------------------+--------------------+--------------------+\n",
            "| 13|            460|                        25|                    18.0|           1.0|             0.0|         1.0|                 0.0|    (2,[],[])|(5,[3],[1.0])|  (5,[4],[1.0])|    (5,[3],[1.0])|(5,[1],[1.0])|    (5,[],[])|(5,[3],[1.0])|    (5,[],[])|        (5,[],[])|(5,[4],[1.0])|(5,[3],[1.0])|(5,[4],[1.0])|(5,[4],[1.0])|    (5,[],[])|      (5,[],[])|(76,[0,2,9,15,19,...|[1.01502567812268...|[0.23279364810074...|\n",
            "| 25|            235|                         1|                     6.0|           1.0|             1.0|         0.0|                 0.0|(2,[0],[1.0])|(5,[3],[1.0])|  (5,[2],[1.0])|    (5,[3],[1.0])|(5,[3],[1.0])|(5,[1],[1.0])|(5,[3],[1.0])|(5,[1],[1.0])|    (5,[1],[1.0])|(5,[1],[1.0])|    (5,[],[])|(5,[3],[1.0])|(5,[1],[1.0])|(5,[4],[1.0])|  (5,[1],[1.0])|(76,[0,1,4,9,13,1...|[1.01502567812268...|[2.91271626071066...|\n",
            "| 26|           1142|                         0|                     0.0|           0.0|             0.0|         0.0|                 1.0|(2,[0],[1.0])|(5,[2],[1.0])|  (5,[2],[1.0])|    (5,[2],[1.0])|(5,[2],[1.0])|    (5,[],[])|    (5,[],[])|    (5,[],[])|        (5,[],[])|(5,[4],[1.0])|(5,[3],[1.0])|(5,[4],[1.0])|(5,[4],[1.0])|(5,[4],[1.0])|      (5,[],[])|(76,[3,4,8,13,18,...|[-0.9851872689378...|[-1.4774814294679...|\n",
            "| 25|            562|                        11|                     9.0|           0.0|             0.0|         0.0|                 0.0|(2,[0],[1.0])|(5,[2],[1.0])|      (5,[],[])|        (5,[],[])|    (5,[],[])|(5,[2],[1.0])|(5,[2],[1.0])|(5,[2],[1.0])|    (5,[2],[1.0])|(5,[2],[1.0])|    (5,[],[])|(5,[3],[1.0])|(5,[1],[1.0])|(5,[4],[1.0])|  (5,[2],[1.0])|(76,[4,8,28,33,38...|[-0.9851872689378...|[2.21964740049783...|\n",
            "| 61|            214|                         0|                     0.0|           1.0|             0.0|         0.0|                 1.0|(2,[0],[1.0])|(5,[3],[1.0])|  (5,[3],[1.0])|    (5,[3],[1.0])|(5,[3],[1.0])|(5,[4],[1.0])|    (5,[],[])|    (5,[],[])|    (5,[3],[1.0])|(5,[3],[1.0])|(5,[4],[1.0])|(5,[4],[1.0])|(5,[3],[1.0])|(5,[3],[1.0])|  (5,[3],[1.0])|(76,[0,3,4,9,14,1...|[1.01502567812268...|[-0.9222443167733...|\n",
            "| 26|           1180|                         0|                     0.0|           0.0|             0.0|         1.0|                 0.0|(2,[1],[1.0])|(5,[3],[1.0])|  (5,[4],[1.0])|    (5,[2],[1.0])|(5,[1],[1.0])|(5,[1],[1.0])|(5,[2],[1.0])|(5,[1],[1.0])|    (5,[1],[1.0])|(5,[3],[1.0])|(5,[4],[1.0])|(5,[4],[1.0])|(5,[4],[1.0])|(5,[4],[1.0])|  (5,[1],[1.0])|(76,[2,5,9,15,18,...|[-0.9851872689378...|[2.29639213360802...|\n",
            "| 47|           1276|                         9|                    23.0|           1.0|             0.0|         1.0|                 0.0|(2,[1],[1.0])|(5,[2],[1.0])|  (5,[4],[1.0])|    (5,[2],[1.0])|(5,[3],[1.0])|(5,[2],[1.0])|(5,[2],[1.0])|(5,[2],[1.0])|    (5,[2],[1.0])|(5,[3],[1.0])|(5,[3],[1.0])|(5,[4],[1.0])|(5,[3],[1.0])|    (5,[],[])|  (5,[2],[1.0])|(76,[0,2,5,8,15,1...|[1.01502567812268...|[3.22690139777634...|\n",
            "| 52|           2035|                         4|                     0.0|           0.0|             0.0|         0.0|                 1.0|(2,[0],[1.0])|(5,[4],[1.0])|  (5,[3],[1.0])|    (5,[4],[1.0])|(5,[4],[1.0])|    (5,[],[])|    (5,[],[])|    (5,[],[])|        (5,[],[])|    (5,[],[])|    (5,[],[])|    (5,[],[])|(5,[4],[1.0])|    (5,[],[])|  (5,[4],[1.0])|(76,[3,4,10,14,20...|[-0.9851872689378...|[-2.3009742206442...|\n",
            "| 41|            853|                         0|                     0.0|           0.0|             0.0|         0.0|                 0.0|(2,[0],[1.0])|(5,[1],[1.0])|  (5,[2],[1.0])|    (5,[2],[1.0])|(5,[2],[1.0])|(5,[4],[1.0])|(5,[3],[1.0])|(5,[3],[1.0])|    (5,[1],[1.0])|(5,[1],[1.0])|(5,[2],[1.0])|(5,[1],[1.0])|(5,[4],[1.0])|(5,[1],[1.0])|  (5,[2],[1.0])|(76,[4,7,13,18,23...|[-0.9851872689378...|[1.73621419323429...|\n",
            "| 20|           1061|                         0|                     0.0|           1.0|             1.0|         0.0|                 0.0|(2,[1],[1.0])|(5,[3],[1.0])|  (5,[3],[1.0])|    (5,[3],[1.0])|(5,[4],[1.0])|(5,[2],[1.0])|(5,[3],[1.0])|(5,[3],[1.0])|    (5,[2],[1.0])|(5,[2],[1.0])|(5,[3],[1.0])|(5,[4],[1.0])|(5,[4],[1.0])|(5,[3],[1.0])|  (5,[2],[1.0])|(76,[0,1,5,9,14,1...|[1.01502567812268...|[3.05250786110427...|\n",
            "+---+---------------+--------------------------+------------------------+--------------+----------------+------------+--------------------+-------------+-------------+---------------+-----------------+-------------+-------------+-------------+-------------+-----------------+-------------+-------------+-------------+-------------+-------------+---------------+--------------------+--------------------+--------------------+\n",
            "only showing top 10 rows\n",
            "\n"
          ]
        }
      ]
    },
    {
      "cell_type": "code",
      "source": [
        "loadings = airline_pipe.stages[-1].pc.toArray()\n",
        "print('loadings.shape', loadings.shape)"
      ],
      "metadata": {
        "colab": {
          "base_uri": "https://localhost:8080/"
        },
        "id": "RBugCTv17vAx",
        "outputId": "2fbcdf52-df7d-4aa6-a509-45f6ad78b60d"
      },
      "execution_count": null,
      "outputs": [
        {
          "output_type": "stream",
          "name": "stdout",
          "text": [
            "loadings.shape (76, 19)\n"
          ]
        }
      ]
    },
    {
      "cell_type": "code",
      "source": [
        "print(loadings[:,0])"
      ],
      "metadata": {
        "colab": {
          "base_uri": "https://localhost:8080/"
        },
        "id": "j6fzCXXn8x60",
        "outputId": "29d6394c-6fec-41a9-fc64-d0371785c26d"
      },
      "execution_count": null,
      "outputs": [
        {
          "output_type": "stream",
          "name": "stdout",
          "text": [
            "[-5.21612527e-03  7.00904346e-02  1.64200164e-01 -2.96662500e-01\n",
            " -2.37075054e-01  2.18996481e-01 -1.37807011e-02  1.31380954e-02\n",
            "  1.11790963e-01  8.59602524e-02 -1.56948282e-01  1.60128497e-02\n",
            " -2.85851664e-02  1.82764591e-02  3.08835642e-02 -2.49975645e-02\n",
            "  6.41079300e-03 -6.42096671e-03  7.51407024e-02  7.02954893e-02\n",
            " -1.00361537e-01 -9.91501255e-04 -3.90031171e-02  1.09000684e-02\n",
            "  7.21218424e-02 -1.43442801e-02  4.16682439e-03  1.44949412e-01\n",
            "  8.51871228e-02  2.88648541e-02 -1.90420557e-01  1.99899209e-02\n",
            "  7.91442089e-02  1.52251595e-01  1.24918605e-01 -1.91790355e-01\n",
            " -1.15451503e-03  1.35805217e-01  1.47156727e-01  1.00580599e-01\n",
            " -2.10824250e-01  8.99014288e-04  1.60235839e-01  1.70685397e-01\n",
            "  9.93081830e-02 -2.96230915e-01  2.84145423e-05  1.02581168e-01\n",
            "  1.05231260e-01  7.99273870e-02 -1.69939677e-01  1.06003137e-02\n",
            "  8.47273318e-02  8.98385840e-02  8.01740089e-02 -1.63839720e-01\n",
            "  0.00000000e+00  6.09564883e-02  9.09591011e-02  1.22976670e-01\n",
            " -1.40993263e-01 -1.15451503e-03  8.78544997e-02  8.61980942e-02\n",
            " -2.51702253e-02 -4.07206613e-02  2.84145423e-05  6.08026301e-02\n",
            "  9.13055648e-02  1.23066869e-01 -1.43180448e-01  6.23531755e-04\n",
            "  1.48688164e-01  1.57036689e-01  1.16378876e-02 -2.02619184e-01]\n"
          ]
        }
      ]
    },
    {
      "cell_type": "code",
      "source": [
        "airline_pipe.stages[-1].explainedVariance"
      ],
      "metadata": {
        "colab": {
          "base_uri": "https://localhost:8080/"
        },
        "id": "p9Vje9rJK7vl",
        "outputId": "afc50097-0e36-43ba-d3d8-d2b8d0d42a2d"
      },
      "execution_count": null,
      "outputs": [
        {
          "output_type": "execute_result",
          "data": {
            "text/plain": [
              "DenseVector([0.0675, 0.0503, 0.0492, 0.0422, 0.0405, 0.0392, 0.0376, 0.036, 0.0338, 0.0324, 0.0299, 0.0283, 0.0282, 0.0211, 0.0206, 0.0195, 0.0186, 0.0183, 0.0176])"
            ]
          },
          "metadata": {},
          "execution_count": 45
        }
      ]
    },
    {
      "cell_type": "code",
      "source": [
        "sum(airline_pipe.stages[-1].explainedVariance)"
      ],
      "metadata": {
        "colab": {
          "base_uri": "https://localhost:8080/"
        },
        "id": "1yh1Iq99LCoM",
        "outputId": "97bd0c94-64bf-48c2-bf9d-5444bed68b4e"
      },
      "execution_count": null,
      "outputs": [
        {
          "output_type": "execute_result",
          "data": {
            "text/plain": [
              "np.float64(0.6308205288985791)"
            ]
          },
          "metadata": {},
          "execution_count": 47
        }
      ]
    },
    {
      "cell_type": "code",
      "source": [
        "import matplotlib.pyplot as plt\n",
        "import numpy as np\n",
        "\n",
        "plt.figure()\n",
        "explained_var = airline_pipe.stages[-1].explainedVariance\n",
        "plt.plot(np.arange(1, len(explained_var) + 1), explained_var)\n",
        "plt.title('Airline Dataset Scree Plot')\n",
        "plt.xlabel('Principal Component')\n",
        "plt.ylabel('Proportion Variance Explained')"
      ],
      "metadata": {
        "colab": {
          "base_uri": "https://localhost:8080/",
          "height": 490
        },
        "id": "PCXQ2tHjLKa6",
        "outputId": "32d93cf1-c8f3-426d-cec0-f11edaa1b510"
      },
      "execution_count": null,
      "outputs": [
        {
          "output_type": "execute_result",
          "data": {
            "text/plain": [
              "Text(0, 0.5, 'Proportion Variance Explained')"
            ]
          },
          "metadata": {},
          "execution_count": 49
        },
        {
          "output_type": "display_data",
          "data": {
            "text/plain": [
              "<Figure size 640x480 with 1 Axes>"
            ],
            "image/png": "[encoded data removed]"
          },
          "metadata": {}
        }
      ]
    },
    {
      "cell_type": "code",
      "source": [
        "cum_sum = np.cumsum(explained_var)\n",
        "plt.figure()\n",
        "plt.plot(np.arange(1, len(explained_var)+1), cum_sum)\n",
        "plt.title('Airline Dataset Cumulative Sum of Variance Explained')\n",
        "plt.xlabel('Cumulative Components')\n",
        "plt.ylabel('Cumulative Sum of Variance Explained')"
      ],
      "metadata": {
        "colab": {
          "base_uri": "https://localhost:8080/",
          "height": 490
        },
        "id": "10AyaRqyLjD5",
        "outputId": "a359bc64-096a-4e53-f5bd-850b34072aee"
      },
      "execution_count": null,
      "outputs": [
        {
          "output_type": "execute_result",
          "data": {
            "text/plain": [
              "Text(0, 0.5, 'Cumulative Sum of Variance Explained')"
            ]
          },
          "metadata": {},
          "execution_count": 50
        },
        {
          "output_type": "display_data",
          "data": {
            "text/plain": [
              "<Figure size 640x480 with 1 Axes>"
            ],
            "image/png": "[encoded data removed]"
          },
          "metadata": {}
        }
      ]
    },
    {
      "cell_type": "code",
      "source": [
        "import pandas as pd\n",
        "\n",
        "features = ['gender_indexed', 'customer_indexed', 'type_indexed', 'satisfaction_indexed',\n",
        "            'class_ohe', 'wifi_ohe', 'dep_arrival_ohe', 'onlinebooking_ohe', 'gate_ohe',\n",
        "            'food_ohe', 'boarding_ohe', 'seat_ohe', 'entertainment_ohe', 'onboard_ohe',\n",
        "            'legroom_ohe', 'baggage_ohe', 'checkin_ohe', 'inflight_ohe', 'cleanliness_ohe']\n",
        "\n",
        "pd.DataFrame(\n",
        "    list(zip(features, loadings[:, 0], loadings[:, 1], loadings[:, 2])),\n",
        "    columns=['Feature', 'PC1', 'PC2', 'PC3']\n",
        ")\\\n",
        ".sort_values(by='PC1',\n",
        "             ascending=False)\\\n",
        "             .reset_index(drop=True)"
      ],
      "metadata": {
        "colab": {
          "base_uri": "https://localhost:8080/",
          "height": 645
        },
        "id": "NrgE5Dn7Y9YH",
        "outputId": "1bd0e067-dd82-4616-af86-cd3d961f2527"
      },
      "execution_count": null,
      "outputs": [
        {
          "output_type": "execute_result",
          "data": {
            "text/plain": [
              "                 Feature       PC1       PC2       PC3\n",
              "0               wifi_ohe  0.218996 -0.028315 -0.017141\n",
              "1           type_indexed  0.164200 -0.026470 -0.009199\n",
              "2               gate_ohe  0.111791  0.297151 -0.030282\n",
              "3               food_ohe  0.085960 -0.183280  0.277317\n",
              "4        cleanliness_ohe  0.075141  0.231249 -0.033138\n",
              "5       customer_indexed  0.070090 -0.014275 -0.022079\n",
              "6            legroom_ohe  0.030884 -0.090356  0.156576\n",
              "7            onboard_ohe  0.018276  0.164552 -0.005655\n",
              "8               seat_ohe  0.016013 -0.013410 -0.028310\n",
              "9      onlinebooking_ohe  0.013138 -0.132668 -0.254949\n",
              "10           checkin_ohe  0.006411 -0.014701 -0.029744\n",
              "11        gender_indexed -0.005216  0.001072 -0.005212\n",
              "12          inflight_ohe -0.006421 -0.095261 -0.205120\n",
              "13       dep_arrival_ohe -0.013781 -0.008891 -0.024551\n",
              "14           baggage_ohe -0.024998 -0.006249  0.000348\n",
              "15     entertainment_ohe -0.028585 -0.061841 -0.139529\n",
              "16          boarding_ohe -0.156948 -0.000834 -0.012376\n",
              "17             class_ohe -0.237075  0.029954  0.017485\n",
              "18  satisfaction_indexed -0.296663  0.027579 -0.005326"
            ],
            "text/html": [
              "\n",
              "  <div id=\"df-5c4af0aa-86d8-4e67-b532-145569f9a684\" class=\"colab-df-container\">\n",
              "    <div>\n",
              "<style scoped>\n",
              "    .dataframe tbody tr th:only-of-type {\n",
              "        vertical-align: middle;\n",
              "    }\n",
              "\n",
              "    .dataframe tbody tr th {\n",
              "        vertical-align: top;\n",
              "    }\n",
              "\n",
              "    .dataframe thead th {\n",
              "        text-align: right;\n",
              "    }\n",
              "</style>\n",
              "<table border=\"1\" class=\"dataframe\">\n",
              "  <thead>\n",
              "    <tr style=\"text-align: right;\">\n",
              "      <th></th>\n",
              "      <th>Feature</th>\n",
              "      <th>PC1</th>\n",
              "      <th>PC2</th>\n",
              "      <th>PC3</th>\n",
              "    </tr>\n",
              "  </thead>\n",
              "  <tbody>\n",
              "    <tr>\n",
              "      <th>0</th>\n",
              "      <td>wifi_ohe</td>\n",
              "      <td>0.218996</td>\n",
              "      <td>-0.028315</td>\n",
              "      <td>-0.017141</td>\n",
              "    </tr>\n",
              "    <tr>\n",
              "      <th>1</th>\n",
              "      <td>type_indexed</td>\n",
              "      <td>0.164200</td>\n",
              "      <td>-0.026470</td>\n",
              "      <td>-0.009199</td>\n",
              "    </tr>\n",
              "    <tr>\n",
              "      <th>2</th>\n",
              "      <td>gate_ohe</td>\n",
              "      <td>0.111791</td>\n",
              "      <td>0.297151</td>\n",
              "      <td>-0.030282</td>\n",
              "    </tr>\n",
              "    <tr>\n",
              "      <th>3</th>\n",
              "      <td>food_ohe</td>\n",
              "      <td>0.085960</td>\n",
              "      <td>-0.183280</td>\n",
              "      <td>0.277317</td>\n",
              "    </tr>\n",
              "    <tr>\n",
              "      <th>4</th>\n",
              "      <td>cleanliness_ohe</td>\n",
              "      <td>0.075141</td>\n",
              "      <td>0.231249</td>\n",
              "      <td>-0.033138</td>\n",
              "    </tr>\n",
              "    <tr>\n",
              "      <th>5</th>\n",
              "      <td>customer_indexed</td>\n",
              "      <td>0.070090</td>\n",
              "      <td>-0.014275</td>\n",
              "      <td>-0.022079</td>\n",
              "    </tr>\n",
              "    <tr>\n",
              "      <th>6</th>\n",
              "      <td>legroom_ohe</td>\n",
              "      <td>0.030884</td>\n",
              "      <td>-0.090356</td>\n",
              "      <td>0.156576</td>\n",
              "    </tr>\n",
              "    <tr>\n",
              "      <th>7</th>\n",
              "      <td>onboard_ohe</td>\n",
              "      <td>0.018276</td>\n",
              "      <td>0.164552</td>\n",
              "      <td>-0.005655</td>\n",
              "    </tr>\n",
              "    <tr>\n",
              "      <th>8</th>\n",
              "      <td>seat_ohe</td>\n",
              "      <td>0.016013</td>\n",
              "      <td>-0.013410</td>\n",
              "      <td>-0.028310</td>\n",
              "    </tr>\n",
              "    <tr>\n",
              "      <th>9</th>\n",
              "      <td>onlinebooking_ohe</td>\n",
              "      <td>0.013138</td>\n",
              "      <td>-0.132668</td>\n",
              "      <td>-0.254949</td>\n",
              "    </tr>\n",
              "    <tr>\n",
              "      <th>10</th>\n",
              "      <td>checkin_ohe</td>\n",
              "      <td>0.006411</td>\n",
              "      <td>-0.014701</td>\n",
              "      <td>-0.029744</td>\n",
              "    </tr>\n",
              "    <tr>\n",
              "      <th>11</th>\n",
              "      <td>gender_indexed</td>\n",
              "      <td>-0.005216</td>\n",
              "      <td>0.001072</td>\n",
              "      <td>-0.005212</td>\n",
              "    </tr>\n",
              "    <tr>\n",
              "      <th>12</th>\n",
              "      <td>inflight_ohe</td>\n",
              "      <td>-0.006421</td>\n",
              "      <td>-0.095261</td>\n",
              "      <td>-0.205120</td>\n",
              "    </tr>\n",
              "    <tr>\n",
              "      <th>13</th>\n",
              "      <td>dep_arrival_ohe</td>\n",
              "      <td>-0.013781</td>\n",
              "      <td>-0.008891</td>\n",
              "      <td>-0.024551</td>\n",
              "    </tr>\n",
              "    <tr>\n",
              "      <th>14</th>\n",
              "      <td>baggage_ohe</td>\n",
              "      <td>-0.024998</td>\n",
              "      <td>-0.006249</td>\n",
              "      <td>0.000348</td>\n",
              "    </tr>\n",
              "    <tr>\n",
              "      <th>15</th>\n",
              "      <td>entertainment_ohe</td>\n",
              "      <td>-0.028585</td>\n",
              "      <td>-0.061841</td>\n",
              "      <td>-0.139529</td>\n",
              "    </tr>\n",
              "    <tr>\n",
              "      <th>16</th>\n",
              "      <td>boarding_ohe</td>\n",
              "      <td>-0.156948</td>\n",
              "      <td>-0.000834</td>\n",
              "      <td>-0.012376</td>\n",
              "    </tr>\n",
              "    <tr>\n",
              "      <th>17</th>\n",
              "      <td>class_ohe</td>\n",
              "      <td>-0.237075</td>\n",
              "      <td>0.029954</td>\n",
              "      <td>0.017485</td>\n",
              "    </tr>\n",
              "    <tr>\n",
              "      <th>18</th>\n",
              "      <td>satisfaction_indexed</td>\n",
              "      <td>-0.296663</td>\n",
              "      <td>0.027579</td>\n",
              "      <td>-0.005326</td>\n",
              "    </tr>\n",
              "  </tbody>\n",
              "</table>\n",
              "</div>\n",
              "    <div class=\"colab-df-buttons\">\n",
              "\n",
              "  <div class=\"colab-df-container\">\n",
              "    <button class=\"colab-df-convert\" onclick=\"convertToInteractive('df-5c4af0aa-86d8-4e67-b532-145569f9a684')\"\n",
              "            title=\"Convert this dataframe to an interactive table.\"\n",
              "            style=\"display:none;\">\n",
              "\n",
              "  <svg xmlns=\"http://www.w3.org/2000/svg\" height=\"24px\" viewBox=\"0 -960 960 960\">\n",
              "    <path d=\"M120-120v-720h720v720H120Zm60-500h600v-160H180v160Zm220 220h160v-160H400v160Zm0 220h160v-160H400v160ZM180-400h160v-160H180v160Zm440 0h160v-160H620v160ZM180-180h160v-160H180v160Zm440 0h160v-160H620v160Z\"/>\n",
              "  </svg>\n",
              "    </button>\n",
              "\n",
              "  <style>\n",
              "    .colab-df-container {\n",
              "      display:flex;\n",
              "      gap: 12px;\n",
              "    }\n",
              "\n",
              "    .colab-df-convert {\n",
              "      background-color: #E8F0FE;\n",
              "      border: none;\n",
              "      border-radius: 50%;\n",
              "      cursor: pointer;\n",
              "      display: none;\n",
              "      fill: #1967D2;\n",
              "      height: 32px;\n",
              "      padding: 0 0 0 0;\n",
              "      width: 32px;\n",
              "    }\n",
              "\n",
              "    .colab-df-convert:hover {\n",
              "      background-color: #E2EBFA;\n",
              "      box-shadow: 0px 1px 2px rgba(60, 64, 67, 0.3), 0px 1px 3px 1px rgba(60, 64, 67, 0.15);\n",
              "      fill: #174EA6;\n",
              "    }\n",
              "\n",
              "    .colab-df-buttons div {\n",
              "      margin-bottom: 4px;\n",
              "    }\n",
              "\n",
              "    [theme=dark] .colab-df-convert {\n",
              "      background-color: #3B4455;\n",
              "      fill: #D2E3FC;\n",
              "    }\n",
              "\n",
              "    [theme=dark] .colab-df-convert:hover {\n",
              "      background-color: #434B5C;\n",
              "      box-shadow: 0px 1px 3px 1px rgba(0, 0, 0, 0.15);\n",
              "      filter: drop-shadow(0px 1px 2px rgba(0, 0, 0, 0.3));\n",
              "      fill: #FFFFFF;\n",
              "    }\n",
              "  </style>\n",
              "\n",
              "    <script>\n",
              "      const buttonEl =\n",
              "        document.querySelector('#df-5c4af0aa-86d8-4e67-b532-145569f9a684 button.colab-df-convert');\n",
              "      buttonEl.style.display =\n",
              "        google.colab.kernel.accessAllowed ? 'block' : 'none';\n",
              "\n",
              "      async function convertToInteractive(key) {\n",
              "        const element = document.querySelector('#df-5c4af0aa-86d8-4e67-b532-145569f9a684');\n",
              "        const dataTable =\n",
              "          await google.colab.kernel.invokeFunction('convertToInteractive',\n",
              "                                                    [key], {});\n",
              "        if (!dataTable) return;\n",
              "\n",
              "        const docLinkHtml = 'Like what you see? Visit the ' +\n",
              "          '<a target=\"_blank\" href=https://colab.research.google.com/notebooks/data_table.ipynb>data table notebook</a>'\n",
              "          + ' to learn more about interactive tables.';\n",
              "        element.innerHTML = '';\n",
              "        dataTable['output_type'] = 'display_data';\n",
              "        await google.colab.output.renderOutput(dataTable, element);\n",
              "        const docLink = document.createElement('div');\n",
              "        docLink.innerHTML = docLinkHtml;\n",
              "        element.appendChild(docLink);\n",
              "      }\n",
              "    </script>\n",
              "  </div>\n",
              "\n",
              "\n",
              "<div id=\"df-9571cffa-045d-4f93-b14d-25a741edef9b\">\n",
              "  <button class=\"colab-df-quickchart\" onclick=\"quickchart('df-9571cffa-045d-4f93-b14d-25a741edef9b')\"\n",
              "            title=\"Suggest charts\"\n",
              "            style=\"display:none;\">\n",
              "\n",
              "<svg xmlns=\"http://www.w3.org/2000/svg\" height=\"24px\"viewBox=\"0 0 24 24\"\n",
              "     width=\"24px\">\n",
              "    <g>\n",
              "        <path d=\"M19 3H5c-1.1 0-2 .9-2 2v14c0 1.1.9 2 2 2h14c1.1 0 2-.9 2-2V5c0-1.1-.9-2-2-2zM9 17H7v-7h2v7zm4 0h-2V7h2v10zm4 0h-2v-4h2v4z\"/>\n",
              "    </g>\n",
              "</svg>\n",
              "  </button>\n",
              "\n",
              "<style>\n",
              "  .colab-df-quickchart {\n",
              "      --bg-color: #E8F0FE;\n",
              "      --fill-color: #1967D2;\n",
              "      --hover-bg-color: #E2EBFA;\n",
              "      --hover-fill-color: #174EA6;\n",
              "      --disabled-fill-color: #AAA;\n",
              "      --disabled-bg-color: #DDD;\n",
              "  }\n",
              "\n",
              "  [theme=dark] .colab-df-quickchart {\n",
              "      --bg-color: #3B4455;\n",
              "      --fill-color: #D2E3FC;\n",
              "      --hover-bg-color: #434B5C;\n",
              "      --hover-fill-color: #FFFFFF;\n",
              "      --disabled-bg-color: #3B4455;\n",
              "      --disabled-fill-color: #666;\n",
              "  }\n",
              "\n",
              "  .colab-df-quickchart {\n",
              "    background-color: var(--bg-color);\n",
              "    border: none;\n",
              "    border-radius: 50%;\n",
              "    cursor: pointer;\n",
              "    display: none;\n",
              "    fill: var(--fill-color);\n",
              "    height: 32px;\n",
              "    padding: 0;\n",
              "    width: 32px;\n",
              "  }\n",
              "\n",
              "  .colab-df-quickchart:hover {\n",
              "    background-color: var(--hover-bg-color);\n",
              "    box-shadow: 0 1px 2px rgba(60, 64, 67, 0.3), 0 1px 3px 1px rgba(60, 64, 67, 0.15);\n",
              "    fill: var(--button-hover-fill-color);\n",
              "  }\n",
              "\n",
              "  .colab-df-quickchart-complete:disabled,\n",
              "  .colab-df-quickchart-complete:disabled:hover {\n",
              "    background-color: var(--disabled-bg-color);\n",
              "    fill: var(--disabled-fill-color);\n",
              "    box-shadow: none;\n",
              "  }\n",
              "\n",
              "  .colab-df-spinner {\n",
              "    border: 2px solid var(--fill-color);\n",
              "    border-color: transparent;\n",
              "    border-bottom-color: var(--fill-color);\n",
              "    animation:\n",
              "      spin 1s steps(1) infinite;\n",
              "  }\n",
              "\n",
              "  @keyframes spin {\n",
              "    0% {\n",
              "      border-color: transparent;\n",
              "      border-bottom-color: var(--fill-color);\n",
              "      border-left-color: var(--fill-color);\n",
              "    }\n",
              "    20% {\n",
              "      border-color: transparent;\n",
              "      border-left-color: var(--fill-color);\n",
              "      border-top-color: var(--fill-color);\n",
              "    }\n",
              "    30% {\n",
              "      border-color: transparent;\n",
              "      border-left-color: var(--fill-color);\n",
              "      border-top-color: var(--fill-color);\n",
              "      border-right-color: var(--fill-color);\n",
              "    }\n",
              "    40% {\n",
              "      border-color: transparent;\n",
              "      border-right-color: var(--fill-color);\n",
              "      border-top-color: var(--fill-color);\n",
              "    }\n",
              "    60% {\n",
              "      border-color: transparent;\n",
              "      border-right-color: var(--fill-color);\n",
              "    }\n",
              "    80% {\n",
              "      border-color: transparent;\n",
              "      border-right-color: var(--fill-color);\n",
              "      border-bottom-color: var(--fill-color);\n",
              "    }\n",
              "    90% {\n",
              "      border-color: transparent;\n",
              "      border-bottom-color: var(--fill-color);\n",
              "    }\n",
              "  }\n",
              "</style>\n",
              "\n",
              "  <script>\n",
              "    async function quickchart(key) {\n",
              "      const quickchartButtonEl =\n",
              "        document.querySelector('#' + key + ' button');\n",
              "      quickchartButtonEl.disabled = true;  // To prevent multiple clicks.\n",
              "      quickchartButtonEl.classList.add('colab-df-spinner');\n",
              "      try {\n",
              "        const charts = await google.colab.kernel.invokeFunction(\n",
              "            'suggestCharts', [key], {});\n",
              "      } catch (error) {\n",
              "        console.error('Error during call to suggestCharts:', error);\n",
              "      }\n",
              "      quickchartButtonEl.classList.remove('colab-df-spinner');\n",
              "      quickchartButtonEl.classList.add('colab-df-quickchart-complete');\n",
              "    }\n",
              "    (() => {\n",
              "      let quickchartButtonEl =\n",
              "        document.querySelector('#df-9571cffa-045d-4f93-b14d-25a741edef9b button');\n",
              "      quickchartButtonEl.style.display =\n",
              "        google.colab.kernel.accessAllowed ? 'block' : 'none';\n",
              "    })();\n",
              "  </script>\n",
              "</div>\n",
              "\n",
              "    </div>\n",
              "  </div>\n"
            ],
            "application/vnd.google.colaboratory.intrinsic+json": {
              "type": "dataframe",
              "summary": "{\n  \"name\": \"             \",\n  \"rows\": 19,\n  \"fields\": [\n    {\n      \"column\": \"Feature\",\n      \"properties\": {\n        \"dtype\": \"string\",\n        \"num_unique_values\": 19,\n        \"samples\": [\n          \"wifi_ohe\",\n          \"customer_indexed\",\n          \"gender_indexed\"\n        ],\n        \"semantic_type\": \"\",\n        \"description\": \"\"\n      }\n    },\n    {\n      \"column\": \"PC1\",\n      \"properties\": {\n        \"dtype\": \"number\",\n        \"std\": 0.12418203268159335,\n        \"min\": -0.2966625004074459,\n        \"max\": 0.2189964805748929,\n        \"num_unique_values\": 19,\n        \"samples\": [\n          0.2189964805748929,\n          0.07009043459107689,\n          -0.0052161252715642765\n        ],\n        \"semantic_type\": \"\",\n        \"description\": \"\"\n      }\n    },\n    {\n      \"column\": \"PC2\",\n      \"properties\": {\n        \"dtype\": \"number\",\n        \"std\": 0.11659328683046385,\n        \"min\": -0.18327991016768597,\n        \"max\": 0.29715145842953994,\n        \"num_unique_values\": 19,\n        \"samples\": [\n          -0.028314962591364054,\n          -0.014275495064277104,\n          0.0010721553326093194\n        ],\n        \"semantic_type\": \"\",\n        \"description\": \"\"\n      }\n    },\n    {\n      \"column\": \"PC3\",\n      \"properties\": {\n        \"dtype\": \"number\",\n        \"std\": 0.11216049561119941,\n        \"min\": -0.2549492679155789,\n        \"max\": 0.27731731744953647,\n        \"num_unique_values\": 19,\n        \"samples\": [\n          -0.01714130188644447,\n          -0.02207864247602012,\n          -0.0052117463396067175\n        ],\n        \"semantic_type\": \"\",\n        \"description\": \"\"\n      }\n    }\n  ]\n}"
            }
          },
          "metadata": {},
          "execution_count": 55
        }
      ]
    },
    {
      "cell_type": "code",
      "source": [
        "train_df, test_df = df_transformed.randomSplit([0.8, 0.2], seed=42)\n"
      ],
      "metadata": {
        "id": "2kUMwIbDKbPu"
      },
      "execution_count": null,
      "outputs": []
    },
    {
      "cell_type": "code",
      "source": [
        "from pyspark.ml.classification import LogisticRegression\n",
        "from pyspark.ml.evaluation     import BinaryClassificationEvaluator\n",
        "\n",
        "lr = LogisticRegression(\n",
        "  featuresCol='scores',\n",
        "  labelCol='satisfaction_indexed'\n",
        ")\n",
        "lr_train = lr.fit(train_df)\n",
        "\n",
        "preds_lr = lr_train.transform(test_df)\n",
        "evaluator = BinaryClassificationEvaluator(\n",
        "  labelCol='satisfaction_indexed',\n",
        "  rawPredictionCol='rawPrediction',\n",
        "  metricName='areaUnderROC'\n",
        ")\n",
        "print(\"ROC:\", evaluator.evaluate(preds_lr))\n"
      ],
      "metadata": {
        "id": "7UM7Rw2AaP9x",
        "colab": {
          "base_uri": "https://localhost:8080/"
        },
        "outputId": "f0bf8c30-2a01-48ad-f684-97bd48a2fac9"
      },
      "execution_count": null,
      "outputs": [
        {
          "output_type": "stream",
          "name": "stdout",
          "text": [
            "ROC: 0.9698676322559784\n"
          ]
        }
      ]
    },
    {
      "cell_type": "code",
      "source": [
        "from pyspark.ml.evaluation import BinaryClassificationEvaluator\n",
        "import matplotlib.pyplot as plt\n",
        "from sklearn.metrics import roc_curve, auc\n",
        "\n",
        "y_true = preds_lr.select('satisfaction_indexed').collect()\n",
        "y_true = [row['satisfaction_indexed'] for row in y_true]\n",
        "\n",
        "y_pred = preds_lr.select('probability').rdd.map(lambda row: row[0][1]).collect()\n",
        "y_pred = [float(prob) for prob in y_pred]\n",
        "\n",
        "fpr, tpr, _ = roc_curve(y_true, y_pred)\n",
        "roc_auc = auc(fpr, tpr)\n"
      ],
      "metadata": {
        "colab": {
          "base_uri": "https://localhost:8080/",
          "height": 564
        },
        "id": "PNfRLMnDKvnA",
        "outputId": "ee12528f-8b8f-46ac-80ef-dbebbc8dda96"
      },
      "execution_count": null,
      "outputs": [
        {
          "output_type": "display_data",
          "data": {
            "text/plain": [
              "<Figure size 800x600 with 1 Axes>"
            ],
            "image/png": "[encoded data removed]"
          },
          "metadata": {}
        }
      ]
    },
    {
      "cell_type": "code",
      "source": [
        "plt.figure(figsize=(8, 6))\n",
        "plt.plot(fpr, tpr, color='darkorange', lw=2, label=f'ROC curve (area = {roc_auc:.2f})')\n",
        "plt.plot([0, 1], [0, 1], color='navy', lw=2, linestyle='--')\n",
        "plt.xlim([0.0, 1.0])\n",
        "plt.ylim([0.0, 1.05])\n",
        "plt.xlabel('False Positive Rate')\n",
        "plt.ylabel('True Positive Rate')\n",
        "plt.title('Logistic Regression ROC Curve')\n",
        "plt.legend(loc='lower right')\n",
        "plt.show()"
      ],
      "metadata": {
        "id": "umkDqG5tLrvq",
        "outputId": "93abdd00-e10c-4176-da79-d72e50decda1",
        "colab": {
          "base_uri": "https://localhost:8080/",
          "height": 564
        }
      },
      "execution_count": null,
      "outputs": [
        {
          "output_type": "display_data",
          "data": {
            "text/plain": [
              "<Figure size 800x600 with 1 Axes>"
            ],
            "image/png": "[encoded data removed]"
          },
          "metadata": {}
        }
      ]
    },
    {
      "cell_type": "code",
      "source": [
        "from pyspark.ml.classification import RandomForestClassifier\n",
        "\n",
        "rf = RandomForestClassifier(\n",
        "    featuresCol='scores',\n",
        "    labelCol='satisfaction_indexed',\n",
        "    numTrees=100,\n",
        "    maxDepth=5\n",
        ")\n",
        "model_train = rf.fit(train_df)\n",
        "\n",
        "preds_rf = model_train.transform(test_df)\n",
        "evaluator = BinaryClassificationEvaluator(\n",
        "    labelCol='satisfaction_indexed',\n",
        "    rawPredictionCol='rawPrediction',\n",
        "    metricName='areaUnderROC'\n",
        ")\n",
        "print(\"ROC:\", evaluator.evaluate(preds_rf))"
      ],
      "metadata": {
        "id": "ivkFUafZaUZN"
      },
      "execution_count": null,
      "outputs": []
    },
    {
      "cell_type": "markdown",
      "source": [
        "# Final Modeling"
      ],
      "metadata": {
        "id": "e1LWeeysJLQz"
      }
    },
    {
      "cell_type": "markdown",
      "source": [
        "## Train/Test Split"
      ],
      "metadata": {
        "id": "Y6Bw6ivzJS5_"
      }
    },
    {
      "cell_type": "code",
      "source": [
        "from pyspark.ml.classification import LogisticRegression, RandomForestClassifier, GBTClassifier\n",
        "from pyspark.ml.evaluation import BinaryClassificationEvaluator\n",
        "import matplotlib.pyplot as plt\n",
        "from sklearn.metrics import roc_curve, auc\n",
        "\n",
        "train_df, test_df = encoded_df.randomSplit([0.8,0.2], seed=42)\n",
        "train_df = train_df.na.drop()\n",
        "test_df = test_df.na.drop()"
      ],
      "metadata": {
        "id": "9iY1J4G4JK06"
      },
      "execution_count": null,
      "outputs": []
    },
    {
      "cell_type": "markdown",
      "source": [
        "## Vector Assembly and Evaluator Construction"
      ],
      "metadata": {
        "id": "Gzq0XULRJh_K"
      }
    },
    {
      "cell_type": "code",
      "source": [
        "feature_cols = [\n",
        "    \"Age\",\n",
        "    \"Flight Distance\",\n",
        "    \"gender_indexed\",\n",
        "    \"customer_indexed\",\n",
        "    \"type_indexed\",\n",
        "    \"class_ohe\"\n",
        "]\n",
        "\n",
        "\n",
        "va = VectorAssembler(\n",
        "    inputCols=feature_cols,\n",
        "    outputCol=\"features\"\n",
        ")\n",
        "\n",
        "\n",
        "bce = BinaryClassificationEvaluator(\n",
        "    labelCol=\"satisfaction_indexed\",\n",
        "    rawPredictionCol=\"rawPrediction\",\n",
        "    metricName=\"areaUnderROC\"\n",
        ")"
      ],
      "metadata": {
        "id": "Y8QjYwAvJmU4"
      },
      "execution_count": null,
      "outputs": []
    },
    {
      "cell_type": "markdown",
      "source": [
        "## Random Forest"
      ],
      "metadata": {
        "id": "Xq5o3J_CJ3zg"
      }
    },
    {
      "cell_type": "code",
      "source": [
        "rf = RandomForestClassifier(\n",
        "    featuresCol=\"features\",\n",
        "    labelCol=\"satisfaction_indexed\"\n",
        ")\n",
        "\n",
        "rf_model = Pipeline(stages=[va, rf]).fit(train_df)\n",
        "\n",
        "\n",
        "rf_preds = rf_model.transform(test_df)\n",
        "\n",
        "print(\"Random Forest AUC:\", bce.evaluate(rf_preds))"
      ],
      "metadata": {
        "id": "Ha8adcSrJxZC"
      },
      "execution_count": null,
      "outputs": []
    },
    {
      "cell_type": "markdown",
      "source": [
        "## Logistic Regression"
      ],
      "metadata": {
        "id": "xIoFc_wsJ5up"
      }
    },
    {
      "cell_type": "code",
      "source": [
        "lr = LogisticRegression(\n",
        "    featuresCol=\"features\",\n",
        "    labelCol=\"satisfaction_indexed\"\n",
        ")\n",
        "\n",
        "lr_model = Pipeline(stages = [va, lr]).fit(train_df)\n",
        "\n",
        "lr_preds = lr_model.transform(test_df)\n",
        "\n",
        "print(\"Logistic Regression AUC:\", bce.evaluate(lr_preds))"
      ],
      "metadata": {
        "id": "vV0-saJfJ8gx"
      },
      "execution_count": null,
      "outputs": []
    },
    {
      "cell_type": "markdown",
      "source": [
        "## Gradient Boosted Tree"
      ],
      "metadata": {
        "id": "BD72p5CcKAve"
      }
    },
    {
      "cell_type": "code",
      "source": [
        "gbt = GBTClassifier(\n",
        "    featuresCol='features',\n",
        "    labelCol='satisfaction_indexed'\n",
        ")\n",
        "\n",
        "gbt_model = Pipeline(stages=[va, gbt]).fit(train_df)\n",
        "\n",
        "gbt_preds = gbt_model.transform(test_df)\n",
        "\n",
        "print(\"Gradient Boosted Tree AUC:\", bce.evaluate(gbt_preds))"
      ],
      "metadata": {
        "id": "yifoMUaHKALg"
      },
      "execution_count": null,
      "outputs": []
    },
    {
      "cell_type": "markdown",
      "source": [
        "## Plotting"
      ],
      "metadata": {
        "id": "l7VSY_3SKISg"
      }
    },
    {
      "cell_type": "markdown",
      "source": [
        "### Random Forest ROC Curve"
      ],
      "metadata": {
        "id": "WRg7f3kXMlaS"
      }
    },
    {
      "cell_type": "code",
      "source": [
        "rf_true = rf_preds.select('satisfaction_indexed').collect()\n",
        "rf_true = [row['satisfaction_indexed'] for row in rf_true]\n",
        "\n",
        "rf_pred = rf_preds.select('probability').rdd.map(lambda row: row[0][1]).collect()\n",
        "rf_pred = [float(prob) for prob in rf_pred]\n",
        "\n",
        "fpr, tpr, _ = roc_curve(rf_true, rf_pred)\n",
        "rf_roc_auc = auc(fpr, tpr)\n",
        "\n",
        "plt.figure(figsize=(8, 6))\n",
        "plt.plot(fpr, tpr, color='darkorange', lw=2, label=f'ROC curve (area = {rf_roc_auc:.2f})')\n",
        "plt.plot([0, 1], [0, 1], color='navy', lw=2, linestyle='--')\n",
        "plt.xlim([0.0, 1.0])\n",
        "plt.ylim([0.0, 1.05])\n",
        "plt.xlabel('False Positive Rate')\n",
        "plt.ylabel('True Positive Rate')\n",
        "plt.title('Random Forest ROC Curve')\n",
        "plt.legend(loc='lower right')\n",
        "plt.show()"
      ],
      "metadata": {
        "id": "HxlbFZOxMo8g"
      },
      "execution_count": null,
      "outputs": []
    },
    {
      "cell_type": "markdown",
      "source": [
        "### Logistic Regression Curve"
      ],
      "metadata": {
        "id": "WzJWC24RMw7k"
      }
    },
    {
      "cell_type": "code",
      "source": [
        "y_true = lr_preds.select('satisfaction_indexed').collect()\n",
        "y_true = [row['satisfaction_indexed'] for row in y_true]\n",
        "\n",
        "y_pred = lr_preds.select('probability').rdd.map(lambda row: row[0][1]).collect()\n",
        "y_pred = [float(prob) for prob in y_pred]\n",
        "\n",
        "fpr, tpr, _ = roc_curve(y_true, y_pred)\n",
        "lr_roc_auc = auc(fpr, tpr)\n",
        "\n",
        "plt.figure(figsize=(8, 6))\n",
        "plt.plot(fpr, tpr, color='darkorange', lw=2, label=f'ROC curve (area = {lr_roc_auc:.2f})')\n",
        "plt.plot([0, 1], [0, 1], color='navy', lw=2, linestyle='--')\n",
        "plt.xlim([0.0, 1.0])\n",
        "plt.ylim([0.0, 1.05])\n",
        "plt.xlabel('False Positive Rate')\n",
        "plt.ylabel('True Positive Rate')\n",
        "plt.title('Logistic Regression ROC Curve')\n",
        "plt.legend(loc='lower right')\n",
        "plt.show()"
      ],
      "metadata": {
        "id": "rV1qDGXSM0En"
      },
      "execution_count": null,
      "outputs": []
    },
    {
      "cell_type": "markdown",
      "source": [
        "### GBT ROC Curve"
      ],
      "metadata": {
        "id": "XIiCVGu1KKng"
      }
    },
    {
      "cell_type": "code",
      "source": [
        "gbt_true = gbt_preds.select('satisfaction_indexed').collect()\n",
        "gbt_true = [row['satisfaction_indexed'] for row in gbt_true]\n",
        "\n",
        "gbt_pred = gbt_preds.select('probability').rdd.map(lambda row: row[0][1]).collect()\n",
        "gbt_pred = [float(prob) for prob in gbt_pred]\n",
        "\n",
        "fpr, tpr, _ = roc_curve(gbt_true, gbt_pred)\n",
        "gbt_roc_auc = auc(fpr, tpr)\n",
        "\n",
        "plt.figure(figsize=(8, 6))\n",
        "plt.plot(fpr, tpr, color='darkorange', lw=2, label=f'ROC curve (area = {gbt_roc_auc:.2f})')\n",
        "plt.plot([0, 1], [0, 1], color='navy', lw=2, linestyle='--')\n",
        "plt.xlim([0.0, 1.0])\n",
        "plt.ylim([0.0, 1.05])\n",
        "plt.xlabel('False Positive Rate')\n",
        "plt.ylabel('True Positive Rate')\n",
        "plt.title('Logistic Regression ROC Curve')\n",
        "plt.legend(loc='lower right')\n",
        "plt.show()"
      ],
      "metadata": {
        "id": "-p0mWTPnKOiB"
      },
      "execution_count": null,
      "outputs": []
    }
  ]
}